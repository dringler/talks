{
 "cells": [
  {
   "cell_type": "markdown",
   "metadata": {
    "slideshow": {
     "slide_type": "slide"
    }
   },
   "source": [
    "# How to choose better colors for your data visualizations"
   ]
  },
  {
   "cell_type": "markdown",
   "metadata": {
    "slideshow": {
     "slide_type": "notes"
    }
   },
   "source": [
    "## Abstract\n",
    "Everybody is doing colorful charts with Python libraries such as matplotlib and bokeh but most people never change the basic configuration. This talk will teach you the basics of color theory to help you choose the right colors of your charts.\n",
    "\n",
    "## Description\n",
    "With Python libraries such as matplotlib, seaborn, bokeh, plotly, altair,  hvplot etc. it is easier than ever to create nice and colorful charts to visualize your data. Many people never change the basic configuration of the libraries because they do not know better (or worse: they do not care). This is why almost all charts look the same. \n",
    "Colors are an important tool to quickly transfer the message of your charts to the viewer. In order to make it easy for the people to understand your charts and your data, it is important to think about how to use colors in data visualization (usually the standard colors are not the colors that should be used!).\n",
    "Therefore, this talk will teach you some basics of color theory and help you to get started with using better colors in your charts. Some practical examples using popular Python libraries will be shown to help you choose the best colors for your next charts.\n",
    "\n",
    "## Duration\n",
    "45 minutes"
   ]
  },
  {
   "cell_type": "markdown",
   "metadata": {
    "slideshow": {
     "slide_type": "notes"
    }
   },
   "source": [
    "# Agenda\n",
    "* what is color theory\n",
    "  * important people\n",
    "  * color wheels\n",
    "  * some definitions\n",
    "* color models\n",
    "* human perception of colors\n",
    "* which colors should you use for your chart?\n",
    "* do's and don'ts"
   ]
  },
  {
   "cell_type": "markdown",
   "metadata": {
    "slideshow": {
     "slide_type": "slide"
    }
   },
   "source": [
    "# What are Colors?\n",
    "*What is 'green'?*"
   ]
  },
  {
   "cell_type": "markdown",
   "metadata": {
    "slideshow": {
     "slide_type": "subslide"
    }
   },
   "source": [
    "## Colors\n",
    "* Color categories\n",
    "* Electromagnetic radiation\n",
    "\n",
    "<img width=\"600\" src=\"img/cone_cells.png\"/>\n",
    "\n",
    "<font size=\"1\">https://upload.wikimedia.org/wikipedia/commons/2/26/Cone-response-en.svg</font>"
   ]
  },
  {
   "cell_type": "markdown",
   "metadata": {
    "slideshow": {
     "slide_type": "notes"
    }
   },
   "source": [
    "* \"characteristic of human visual perception described through *color categories*\": e.g. blue, red, green\n",
    "* \"perception of color derives from the stimulation of cone cells in the human eye by electromagnetic radiation in the visible spectrum\"\n",
    "\n",
    "https://en.wikipedia.org/wiki/Color\n",
    "\n",
    "Normalized responsivity spectra of human cone cells, S, M, and L types"
   ]
  },
  {
   "cell_type": "markdown",
   "metadata": {
    "slideshow": {
     "slide_type": "slide"
    }
   },
   "source": [
    "# What is Color Theory?\n",
    "* Art and science\n",
    "* Human perception\n",
    "* Color mixing\n",
    "* Communication\n",
    "* Methods for color replication\n",
    "\n",
    "<font size=\"1\">https://99designs.com/blog/tips/the-7-step-guide-to-understanding-color-theory/</font>"
   ]
  },
  {
   "cell_type": "markdown",
   "metadata": {
    "slideshow": {
     "slide_type": "notes"
    }
   },
   "source": [
    "* \"practical guidance to color mixing and the visual effects of a specific color combination\"\n",
    "* First principles by Leon Battista Alberti (c. 1435) and Leonardo da Vinci (c. 1490)\n",
    "* \"tradition of \"colory theory\" began in the 18th century, initially within a partisan controversy over Isaac Newton's theory of color (Opticks, 1704)\"\n",
    "\n",
    "https://en.wikipedia.org/wiki/Color_theory"
   ]
  },
  {
   "cell_type": "markdown",
   "metadata": {
    "slideshow": {
     "slide_type": "subslide"
    }
   },
   "source": [
    "## Aristotelēs (384–322 BC)\n",
    "<img align=\"right\" width=\"150\" src=\"img/aristotle.jpg\">\n",
    "\n",
    "* Greek philosopher\n",
    "* *De Coloribus*\n",
    "* All colors come from white (lightness) and black (darkness)\n",
    "* Four elements: water, air, earth, and fire\n",
    "* Basic color palette:\n",
    "  \n",
    "<img width=\"500\" src=\"img/aristotle_color_palette.png\"/>\n"
   ]
  },
  {
   "cell_type": "markdown",
   "metadata": {
    "slideshow": {
     "slide_type": "notes"
    }
   },
   "source": [
    "* *De Coloribus* = \"On Colors\"\n",
    "* Basic color palette: yellow, red, violet, green, blue"
   ]
  },
  {
   "cell_type": "markdown",
   "metadata": {
    "slideshow": {
     "slide_type": "subslide"
    }
   },
   "source": [
    "## Leon Battista Alberti (1404 – 1472)\n",
    "<img align=\"right\" width=\"150\" src=\"img/alberti.jpg\">\n",
    "\n",
    "* Italian architect\n",
    "* *De pictura* (1435)\n",
    "* Black and white are non-colors\n",
    "* Four true colors:\n",
    "\n",
    "<img width=\"350\" src=\"img/alberti_color_palette.png\"/>"
   ]
  },
  {
   "cell_type": "markdown",
   "metadata": {
    "slideshow": {
     "slide_type": "subslide"
    }
   },
   "source": [
    "* Mixing of colors create new colors\n",
    "\n",
    "<img src=\"img/alberti_colors.jpg\" style=\"width: 300px;\"/>\n",
    "\n",
    "<font size=\"1\">https://www.colorsystem.com/wp-content/uploads/02GRO/gro01.jpg</font>\n"
   ]
  },
  {
   "cell_type": "markdown",
   "metadata": {
    "slideshow": {
     "slide_type": "notes"
    }
   },
   "source": [
    "* De pictura book = \"On Painting\"\n",
    "  * Perspective, composition, and color\n",
    "  * \"analyses the nature of painting and explores the elements of perspective, composition and colour.\"\n",
    "\n",
    "four true colors:\n",
    "  * red (fire)\n",
    "  * blue (air)\n",
    "  * green (water)\n",
    "  * grey and ash (earth)"
   ]
  },
  {
   "cell_type": "markdown",
   "metadata": {
    "slideshow": {
     "slide_type": "subslide"
    }
   },
   "source": [
    "## Leonardo da Vinci (1452 - 1519)\n",
    "<img align=\"right\" width=\"150\" src=\"img/davinci.png\">\n",
    "\n",
    "* Italien polymath\n",
    "* \"One of the greatest painters of all time\"\n",
    "* Six basic colors:\n",
    "\n",
    "<img width=\"450\" src=\"img/davinci_color_palette.png\"/>\n"
   ]
  },
  {
   "cell_type": "markdown",
   "metadata": {
    "slideshow": {
     "slide_type": "notes"
    }
   },
   "source": [
    "* polymath of the Renaissance whose areas of interest included invention, drawing, painting, sculpture, architecture, science, music, mathematics, engineering, literature, anatomy, geology, astronomy, botany, paleontology, and cartography"
   ]
  },
  {
   "cell_type": "markdown",
   "metadata": {
    "slideshow": {
     "slide_type": "subslide"
    }
   },
   "source": [
    "## Isaac Newton (1643 - 1727)\n",
    "<img align=\"right\" width=\"150\" src=\"img/netwon.jpg\">\n",
    "\n",
    "* English *natural philosopher*\n",
    "* \"One of the most influencial scientists of all time\""
   ]
  },
  {
   "cell_type": "markdown",
   "metadata": {
    "slideshow": {
     "slide_type": "subslide"
    }
   },
   "source": [
    "**Newton's Dual Prism Experiment 1671**\n",
    "\n",
    "White light is a mixture of different colors and the prism does not affect the color.\n",
    "\n",
    "<img width=\"800\" src=\"img/newton_dual_prism.jpg\"/>\n",
    "\n",
    "<font size=\"1\">https://upload.wikimedia.org/wikipedia/commons/6/6a/NewtonDualPrismExperiment.jpg</font>"
   ]
  },
  {
   "cell_type": "markdown",
   "metadata": {
    "slideshow": {
     "slide_type": "subslide"
    }
   },
   "source": [
    "**Newton's Color Wheel 1704**\n",
    "\n",
    "<img src=\"img/newton_color_wheel.png\" style=\"width: 300px; float: left\"/>\n",
    "<img src=\"img/newton_color_wheel_matplotlib.png\" style=\"width: 350px; float: right\"/>\n",
    "\n",
    "<font size=\"1\">https://upload.wikimedia.org/wikipedia/commons/b/b2/Boutet_1708_color_circles.jpg</font>"
   ]
  },
  {
   "cell_type": "markdown",
   "metadata": {
    "slideshow": {
     "slide_type": "notes"
    }
   },
   "source": [
    "* English mathematician, physicist, astronomer, theologian, and author\n",
    "* Dual Prism experiment\n",
    "  * white light passes through the first prism\n",
    "  * the first prism breaks the light into its spectral colors\n",
    "  * only one color passes the second prism (here red)\n",
    "  * the color does not change when passing the second prism (it stays red)\n",
    "  * * \"Observation that a prism separates white light into the colours of the visible spectrum\"\n",
    "  \n",
    "* Asymetric seven color wheel\n",
    "  * based on musical intervals\n",
    "  "
   ]
  },
  {
   "cell_type": "markdown",
   "metadata": {
    "slideshow": {
     "slide_type": "subslide"
    }
   },
   "source": [
    "## Johann Ignaz Schiffermüller (1727 -  1806)\n",
    "<img align=\"right\" width=\"150\" src=\"img/schiffermüller.jpg\">\n",
    "\n",
    "* Austrian naturalist\n",
    "\n",
    "**Continuous Color Wheel (1772)**\n",
    "\n",
    "<img width=\"400\" src=\"img/schiffermueller_color_wheel.jpg\"/>\n",
    "\n",
    "<font size=\"1\">https://upload.wikimedia.org/wikipedia/commons/9/9f/020_schiffermueller1.jpg</font>"
   ]
  },
  {
   "cell_type": "markdown",
   "metadata": {
    "slideshow": {
     "slide_type": "notes"
    }
   },
   "source": [
    "* Continuous color wheel with 12 main colors\n",
    "* Additional table describing 81 shades of colors"
   ]
  },
  {
   "cell_type": "markdown",
   "metadata": {
    "slideshow": {
     "slide_type": "subslide"
    }
   },
   "source": [
    "## Moses Harris (1730 – 1788)\n",
    "\n",
    "<img align=\"right\" width=\"150\" src=\"img/harris.jpg\">\n",
    "\n",
    "* English entomologist and engraver\n",
    "* *Natural System of Colours* (1769-1776)\n",
    "* Color mixing studies\n",
    "\n",
    "**Harris's Color Wheel (1776)**\n",
    "\n",
    "<img width=\"300\" src=\"img/harris_color_wheel.jpg\"/>\n",
    "\n",
    "<font size=\"1\">https://upload.wikimedia.org/wikipedia/commons/d/d9/Moses_Harris%2C_The_Natural_System_of_Colours.jpg</font>"
   ]
  },
  {
   "cell_type": "markdown",
   "metadata": {
    "slideshow": {
     "slide_type": "notes"
    }
   },
   "source": [
    "* *Natural System of Colours* book\n",
    "* Yellow, blue, and red as main colors\n",
    "* Examined which colors can be produced from the three main colors"
   ]
  },
  {
   "cell_type": "markdown",
   "metadata": {
    "slideshow": {
     "slide_type": "subslide"
    }
   },
   "source": [
    "## Johann Wolfgang von Goethe (1749 - 1832)\n",
    "<img align=\"right\" width=\"150\" src=\"img/goethe.jpg\">\n",
    "\n",
    "* German writer, statesman, scientist, and artist\n",
    "* Human color perception\n",
    "\n",
    "***Theory of Colours* (1810)**\n",
    "\n",
    "\n",
    "<img width=\"300\" src=\"img/goethe_color_wheel.jpg\"/>\n",
    "\n",
    "<font size=\"1\">https://upload.wikimedia.org/wikipedia/commons/7/7c/GoetheFarbkreis.jpg</font>"
   ]
  },
  {
   "cell_type": "markdown",
   "metadata": {
    "slideshow": {
     "slide_type": "notes"
    }
   },
   "source": [
    "* *Theory of Colours* book (1810)\n",
    "  * symetric color wheel with six colors\n",
    "  * recognised the importance of magenta (used in all mordern color systems)\n",
    "* colors with attributes to describe human perception (peotic)\n",
    "  * magenta / red: beautiful\n",
    "  * orange: noble\n",
    "  * yellow: good\n",
    "  * green: useful\n",
    "  * blue: mean\n",
    "  * violet: unnecessary\n",
    "* concept of \"warm\" and \"cool\" colors\n",
    "* earlier study: matching colors to human ococupations or character traits\n",
    "  * melancholic (violet/magenta/red): philosophers, pedants, rulers"
   ]
  },
  {
   "cell_type": "markdown",
   "metadata": {
    "slideshow": {
     "slide_type": "subslide"
    }
   },
   "source": [
    "## Philipp Otto Runge (1777 - 1810)\n",
    "<img align=\"right\" width=\"150\" src=\"img/runge.jpg\">\n",
    "\n",
    "* German painter\n",
    "\n",
    "**Color Sphere (1810)**\n",
    "\n",
    "<img width=\"300\" src=\"img/runge_farbenkugel.jpg\"/>\n",
    "\n",
    "<font size=\"1\">https://upload.wikimedia.org/wikipedia/commons/9/94/Runge_Farbenkugel.jpg</font>"
   ]
  },
  {
   "cell_type": "markdown",
   "metadata": {
    "slideshow": {
     "slide_type": "notes"
    }
   },
   "source": [
    "* 3 main colors: yellow, red, and blue\n",
    "* mixed the colors with iteself and together with white and black\n",
    "* surface of the color sphere (top two images)\n",
    "* horizontal and vertical sections of the sphere (bottom two pictures)"
   ]
  },
  {
   "cell_type": "markdown",
   "metadata": {
    "slideshow": {
     "slide_type": "subslide"
    }
   },
   "source": [
    "## Albert Henry Munsell (1858 - 1918)\n",
    "<img align=\"right\" width=\"150\" src=\"img/munsell.jpg\">\n",
    "\n",
    "* American painter and teacher of art\n",
    "\n",
    "**Munsell’s Color Sphere (1900)**\n",
    "<img width=\"300\" src=\"img/munsell_color_sphere.png\"/>\n",
    "\n",
    "<font size=\"1\">https://upload.wikimedia.org/wikipedia/commons/3/35/Munsell_color_sphere.png</font>"
   ]
  },
  {
   "cell_type": "markdown",
   "metadata": {
    "slideshow": {
     "slide_type": "notes"
    }
   },
   "source": [
    "**Munsell’s Color Sphere, 1900**\n",
    "* spherical arrangement of colors\n",
    "* separate dimensions: hue, value, and chroma "
   ]
  },
  {
   "cell_type": "markdown",
   "metadata": {
    "slideshow": {
     "slide_type": "subslide"
    }
   },
   "source": [
    "### Munsell Book of Colors (1915)\n",
    "\n",
    "<img width=\"400\" src=\"img/munsell_system.svg\"/>\n",
    "\n",
    "<font size=\"1\">https://upload.wikimedia.org/wikipedia/commons/d/d5/Munsell-system.svg</font>"
   ]
  },
  {
   "cell_type": "markdown",
   "metadata": {
    "slideshow": {
     "slide_type": "notes"
    }
   },
   "source": [
    "**Munsell color system**\n",
    "* de facto American color standard\n",
    "* five main colors, five additional colors in between\n",
    "* a circle of hues at value 5 chroma 6\n",
    "* neutral values from 0 to 10\n",
    "* open scale chromas (saturation: of purple-blue (5PB) at value 5 in the example"
   ]
  },
  {
   "cell_type": "markdown",
   "metadata": {
    "slideshow": {
     "slide_type": "subslide"
    }
   },
   "source": [
    "## Johannes Itten (1888 - 1967)\n",
    "<img align=\"right\" width=\"150\" src=\"img/itten.jpg\">\n",
    "\n",
    "* Swiss artist\n",
    "* Bauhaus teacher\n",
    "\n",
    "***The Art of Color* (1961)**\n",
    "\n",
    "<img width=\"300\" src=\"img/itten_farbkreis.png\"/>\n",
    "\n",
    "<font size=\"1\">https://upload.wikimedia.org/wikipedia/commons/8/88/Farbkreis_Itten_1961.png</font>"
   ]
  },
  {
   "cell_type": "markdown",
   "metadata": {
    "slideshow": {
     "slide_type": "notes"
    }
   },
   "source": [
    "* Painter, designer, writer, and theorist\n",
    "* Bauhaus teacher (German art school)\n",
    "* Wrote 'The Art of Color'\n",
    "* Seven forms of color contrast:\n",
    "  * Hue\n",
    "  * Value\n",
    "  * Temperature\n",
    "  * Complements\n",
    "  * Simultaneous Contrast\n",
    "  * Saturation\n",
    "  * Contrast by Extension\n",
    "\n",
    "**Itten's Farbenkreis, 1961**\n",
    "* 3 main colors: blue, yellow, red\n",
    "* 3 secondary colors (mixed from two primary colors): green, orange, purple\n",
    "* 12 tertiary colors (mixed primary with secondary color)"
   ]
  },
  {
   "cell_type": "markdown",
   "metadata": {
    "slideshow": {
     "slide_type": "subslide"
    }
   },
   "source": [
    "## Josef Albers (1888 - 1976)\n",
    "<img align=\"right\" width=\"150\" src=\"img/albers.jpg\">\n",
    "\n",
    "* German artist\n",
    "* Student of Johannes Itten and later teacher at Bauhaus\n",
    "* *Interaction of Color* (1963)"
   ]
  },
  {
   "cell_type": "markdown",
   "metadata": {
    "slideshow": {
     "slide_type": "notes"
    }
   },
   "source": [
    "* Joined Bauhaus in 1922 and teached the priliminary course 'Werklehre' in 1923\n",
    "* Professor promotion in 1925\n",
    "* Emigrated to the US in 1933\n",
    "\n",
    "**Interaction of Color, 1963**\n",
    "* Color theory principles\n",
    "* Guide to the relativity of color\n",
    "* 150 silk screen plates\n",
    "* Now available as iPad App"
   ]
  },
  {
   "cell_type": "markdown",
   "metadata": {
    "slideshow": {
     "slide_type": "subslide"
    }
   },
   "source": [
    "### Homage to the Square (1950 - 1976)\n",
    "* Nested squares\n",
    "* Chromatic interactions\n",
    "\n",
    "<img width=\"300\" src=\"img/albers_square.jpg\"/>\n",
    "\n",
    "<font size=\"1\">https://www.guggenheim.org/artwork/177</font>"
   ]
  },
  {
   "cell_type": "markdown",
   "metadata": {
    "slideshow": {
     "slide_type": "slide"
    }
   },
   "source": [
    "# Some definitions...\n"
   ]
  },
  {
   "cell_type": "markdown",
   "metadata": {
    "slideshow": {
     "slide_type": "subslide"
    }
   },
   "source": [
    "## Tints, Shades, and Tones\n",
    "<img width=\"600\" src=\"img/tint_tone_shade.svg\"/>\n",
    "\n",
    "<font size=\"1\">https://upload.wikimedia.org/wikipedia/commons/d/d6/Tint-tone-shade.svg</font>"
   ]
  },
  {
   "cell_type": "markdown",
   "metadata": {
    "slideshow": {
     "slide_type": "notes"
    }
   },
   "source": [
    "* **Tint:** pure color and white (increases lightness)\n",
    "* **Tone:** pure color and grey (black and white)\n",
    "* **Shade:** pure color and black (reduces lightness)"
   ]
  },
  {
   "cell_type": "markdown",
   "metadata": {
    "slideshow": {
     "slide_type": "subslide"
    }
   },
   "source": [
    "## Hue\n",
    "Color on the color wheel\n",
    "\n",
    "<img width=\"600\" src=\"img/hue.svg\"/>\n",
    "\n",
    "<font size=\"1\">https://upload.wikimedia.org/wikipedia/commons/a/ad/HueScale.svg</font>"
   ]
  },
  {
   "cell_type": "markdown",
   "metadata": {
    "slideshow": {
     "slide_type": "notes"
    }
   },
   "source": [
    "* Color on the color wheel\n",
    "* Specified as angle\n",
    "* 0° and 360°: red\n",
    "* 120°: green\n",
    "* 240°: blue"
   ]
  },
  {
   "cell_type": "markdown",
   "metadata": {
    "slideshow": {
     "slide_type": "subslide"
    }
   },
   "source": [
    "## Saturation\n",
    "Color intensity\n",
    "\n",
    "<img width=\"500\" src=\"img/saturation_red.png\"/>\n",
    "\n",
    "<font size=\"1\">https://upload.wikimedia.org/wikipedia/commons/5/5e/Saturation_horizontal.png</font>"
   ]
  },
  {
   "cell_type": "markdown",
   "metadata": {
    "slideshow": {
     "slide_type": "notes"
    }
   },
   "source": [
    "* intensity of the color\n",
    "* combination of white light\n",
    "* 0% at the left is neutral grey (or black or white)\n",
    "* 100% at the right is the pure color"
   ]
  },
  {
   "cell_type": "markdown",
   "metadata": {
    "slideshow": {
     "slide_type": "subslide"
    }
   },
   "source": [
    "## Chroma\n",
    "Color strength\n",
    "\n",
    "<img width=\"600\" src=\"img/chroma.png\"/>\n",
    "\n",
    "<font size=\"1\">https://de.wikipedia.org/wiki/Farbs%C3%A4ttigung</font>"
   ]
  },
  {
   "cell_type": "markdown",
   "metadata": {
    "slideshow": {
     "slide_type": "notes"
    }
   },
   "source": [
    "* perceived strength of a color\n",
    "* \"describes how different from a grey of the same lightness such a color appears to be\"\n",
    "* \"**colorfulness** of an object relative to the brightness of a white object similarly illuminated\"\n",
    "* \"open-ended scale of perceptually uniform steps\"\n",
    "* 0% full white\n",
    "* 100% full black or full color"
   ]
  },
  {
   "cell_type": "markdown",
   "metadata": {
    "slideshow": {
     "slide_type": "subslide"
    }
   },
   "source": [
    "## Lightness and Value\n",
    "Relative color brightness\n",
    "\n",
    "\n",
    "<img src=\"img/lightness.png\" style=\"width: 400px; float: left\"/>\n",
    "<img src=\"img/value.png\" style=\"width: 400px; float: right\"/>\n",
    "\n",
    "<font size=\"1\">https://en.wikipedia.org/wiki/HSL_and_HSV</font>\n"
   ]
  },
  {
   "cell_type": "markdown",
   "metadata": {
    "slideshow": {
     "slide_type": "notes"
    }
   },
   "source": [
    "**Lightness**\n",
    "* \"brightness relative to the brightness of a similarly illuminated white\"\n",
    "* Full black to full color to full white\n",
    "* 0% full black\n",
    "* 100% full white\n",
    "\n",
    "**Value**\n",
    "* 0% nearly black (no brightness)\n",
    "* 100% fully satuated color (full brightness)\n",
    "* lightness 0.5 in HSL = value 1 in HSV"
   ]
  },
  {
   "cell_type": "markdown",
   "metadata": {
    "slideshow": {
     "slide_type": "slide"
    }
   },
   "source": [
    "# Color Models\n",
    "* Abstract model\n",
    "* Tuples of numbers\n",
    "\n",
    "<img src=\"img/rgb.svg\" style=\"width: 300px; float: left\"/>\n",
    "<img src=\"img/cmy.svg\" style=\"width: 300px; float: right\"/>\n",
    "\n",
    "<font size=\"1\">https://upload.wikimedia.org/wikipedia/commons/c/c2/AdditiveColor.svg and https://upload.wikimedia.org/wikipedia/commons/1/19/SubtractiveColor.svg</font>"
   ]
  },
  {
   "cell_type": "markdown",
   "metadata": {
    "slideshow": {
     "slide_type": "notes"
    }
   },
   "source": [
    "**Color model**\n",
    "* Abstract mathematical model\n",
    "* Colors as tuples of numbers (usually 3-4 values)\n",
    "* Color model + mapping function (interpretation description) = color space\n",
    "* A color space allows analog and digital reproducible representations of color\n",
    "\n",
    "**Additive Color Models**\n",
    "* start with darkness\n",
    "* mix light colors together to create new colors\n",
    "* **RGB:** Additive color model with red (R), green (G), and blue (B) as primary colors\n",
    "* Main purpose: display of images in electronic systems\n",
    "\n",
    "**Subtractive Color Models**\n",
    "* start with light\n",
    "* create new colors by absorbing parts of the spectrum of light\n",
    "* like mixing paints\n",
    "* **CMY(K):** Substractive color model with cyan (C), yellow (Y), magenta (M) as primary colors\n",
    "* Additional black (K) for dark colors\n",
    "* Used in printing\n"
   ]
  },
  {
   "cell_type": "markdown",
   "metadata": {
    "slideshow": {
     "slide_type": "subslide"
    }
   },
   "source": [
    "## RGB Color Model\n",
    "* RGB triplet (r,g,b)\n",
    "\n",
    "<img src=\"img/rgb_cube.png\" style=\"width: 400px;\"/>\n",
    "\n",
    "<font size=\"1\">https://upload.wikimedia.org/wikipedia/commons/a/af/RGB_color_solid_cube.png</font>"
   ]
  },
  {
   "cell_type": "markdown",
   "metadata": {
    "slideshow": {
     "slide_type": "subslide"
    }
   },
   "source": [
    "## HSL Color Model\n",
    "\n",
    "<img src=\"img/hsl_cylinder.png\" style=\"width: 400px;\"/>\n",
    "\n",
    "<font size=\"1\">https://upload.wikimedia.org/wikipedia/commons/6/6b/HSL_color_solid_cylinder_saturation_gray.png</font>"
   ]
  },
  {
   "cell_type": "markdown",
   "metadata": {
    "slideshow": {
     "slide_type": "notes"
    }
   },
   "source": [
    "* Hue, Saturation, Lightness\n",
    "* \"alternative representations of the RGB color model|\n",
    "* \"designed in the 1970s\"\n",
    "* \"more closely align with the way human vision perceives color-making attributes\"\n",
    "* based on Munsell color system\n",
    "* fully satuated colors have a lightness value of 0.5\n",
    "* lightness of 0 is fully black\n",
    "* lightness of 1 is fully white"
   ]
  },
  {
   "cell_type": "markdown",
   "metadata": {
    "slideshow": {
     "slide_type": "subslide"
    }
   },
   "source": [
    "## HSL Color Picker\n",
    "\n",
    "<img width=\"400\" src=\"img/hsl_picker.png\"/>\n",
    "\n",
    "<font size=\"1\">https://www.w3schools.com/colors/colors_hsl.asp</font>\n",
    "\n",
    "Also check out the W3 color picker at https://www.w3schools.com/colors/colors_picker.asp"
   ]
  },
  {
   "cell_type": "markdown",
   "metadata": {
    "slideshow": {
     "slide_type": "slide"
    }
   },
   "source": [
    "# Human Perception of Color\n",
    "\n",
    "## RGB Brightness\n",
    "\n",
    "<img width=\"600\" src=\"img/rgb_brightness.png\"/>\n",
    "\n",
    "<font size=\"1\">https://earthobservatory.nasa.gov/blogs/elegantfigures/wp-content/uploads/sites/4/2013/08/red_green_blue_618.png</font>"
   ]
  },
  {
   "cell_type": "markdown",
   "metadata": {
    "slideshow": {
     "slide_type": "notes"
    }
   },
   "source": [
    "* We see green brighter than red (more sensitive to green light)\n",
    "* We see red brighter than blue"
   ]
  },
  {
   "cell_type": "markdown",
   "metadata": {
    "slideshow": {
     "slide_type": "subslide"
    }
   },
   "source": [
    "## HSL Diagram\n",
    "\n",
    "<img width=\"700\" src=\"img/hsl_diagram.png\"/>\n",
    "\n",
    "<font size=\"1\">https://earthobservatory.nasa.gov/blogs/elegantfigures/wp-content/uploads/sites/4/2013/08/hsl_diagram_618.png</font>"
   ]
  },
  {
   "cell_type": "markdown",
   "metadata": {
    "slideshow": {
     "slide_type": "notes"
    }
   },
   "source": [
    "\n",
    "* \"the range of saturation we’re capable of seeing for a single hue is highly dependent on its lightness\" (https://earthobservatory.nasa.gov/blogs/elegantfigures/2013/08/05/subtleties-of-color-part-1-of-6/)\n",
    "* Dark yellow does not exist\n",
    "* Green shades cannot be saturated, but red and blue shades can\n",
    "* Uneven range of colors we can perceive"
   ]
  },
  {
   "cell_type": "markdown",
   "metadata": {
    "slideshow": {
     "slide_type": "subslide"
    }
   },
   "source": [
    "## Color Psychology\n",
    "* Study of color and human behavior\n",
    "\n",
    "<img width=\"600\" src=\"img/warm_cool_colors.png\"/>\n",
    "\n",
    "<font size=\"1\">https://neilpatel.com/wp-content/uploads/2011/10/color-coordination-sm.jpg</font>"
   ]
  },
  {
   "cell_type": "markdown",
   "metadata": {
    "slideshow": {
     "slide_type": "notes"
    }
   },
   "source": [
    "* Cultural influence changes the perception of color\n",
    "* Used in marketing and branding\n",
    "* Color meaning (e.g. red for love, excitement, or anger)\n",
    "\n",
    "**Warm and cool colors**\n",
    "* Warm colors\n",
    "  * Associated with daylight and sunset\n",
    "  * Red to yellow\n",
    "* Cool colors\n",
    "  * Associated with grey and overcast day\n",
    "  * Blue green to blue violet\n",
    "\n"
   ]
  },
  {
   "cell_type": "markdown",
   "metadata": {
    "slideshow": {
     "slide_type": "notes"
    }
   },
   "source": [
    "# What is in there for you?\n",
    "\n",
    "* Why should you care?\n",
    "* Why should you create nice charts?\n",
    "* Pros and Cons\n",
    "\n",
    "# How you can create better charts"
   ]
  },
  {
   "cell_type": "markdown",
   "metadata": {
    "slideshow": {
     "slide_type": "slide"
    }
   },
   "source": [
    "# Which colors should you use for your chart?"
   ]
  },
  {
   "cell_type": "markdown",
   "metadata": {
    "slideshow": {
     "slide_type": "subslide"
    }
   },
   "source": [
    "# Which colors should you use for your chart?\n",
    "\n",
    "* [Make grey your best friend](http://www.visualisingdata.com/2015/01/make-grey-best-friend/)\n",
    "* Use color to highlight\n",
    "\n",
    "<img width=\"600\" src=\"img/grey_accent.png\"/>\n",
    "\n",
    "<font size=\"1\">https://www.visualisingdata.com/2015/01/make-grey-best-friend/</font>"
   ]
  },
  {
   "cell_type": "markdown",
   "metadata": {
    "slideshow": {
     "slide_type": "subslide"
    }
   },
   "source": [
    "* Different colors for different data\n",
    "\n",
    "<img width=\"600\" src=\"img/color_harmonies.png\"/>\n",
    "\n",
    "<font size=\"1\">https://neilpatel.com/wp-content/uploads/2011/10/color-coordination-sm.jpg</font>"
   ]
  },
  {
   "cell_type": "markdown",
   "metadata": {
    "slideshow": {
     "slide_type": "subslide"
    }
   },
   "source": [
    "* Use intuitive color palettes if possible\n",
    "\n",
    "<img width=\"600\" src=\"img/complementary_data.jpg\"/>\n",
    "\n",
    "<font size=\"1\">https://earthobservatory.nasa.gov/blogs/elegantfigures/wp-content/uploads/sites/4/2013/08/npp_tmo_201008_618.jpg</font>"
   ]
  },
  {
   "cell_type": "markdown",
   "metadata": {
    "slideshow": {
     "slide_type": "subslide"
    }
   },
   "source": [
    "* Human perception of color\n",
    "\n",
    "<img width=\"600\" src=\"img/color_emotions.png\"/>\n",
    "\n",
    "<font size=\"1\">https://www.usertesting.com/blog/color-ux-conversion-rates/</font>"
   ]
  },
  {
   "cell_type": "markdown",
   "metadata": {
    "slideshow": {
     "slide_type": "subslide"
    }
   },
   "source": [
    "* Separate data from non-data\n",
    "\n",
    "<img width=\"600\" src=\"img/missing_data_grey.jpg\"/>\n",
    "\n",
    "<font size=\"1\">https://earthobservatory.nasa.gov/blogs/elegantfigures/wp-content/uploads/sites/4/2013/08/noaa_viirs_ndvi_beige_gray_618.jpg</font>"
   ]
  },
  {
   "cell_type": "markdown",
   "metadata": {
    "slideshow": {
     "slide_type": "subslide"
    }
   },
   "source": [
    "* Colorblindness\n",
    "\n",
    "<img width=\"600\" src=\"img/colorblindness.png\" style=\"width: 400px;\"/>\n",
    "\n",
    "<font size=\"1\">https://upload.wikimedia.org/wikipedia/commons/e/e0/Ishihara_9.png</font>"
   ]
  },
  {
   "cell_type": "markdown",
   "metadata": {
    "slideshow": {
     "slide_type": "subslide"
    }
   },
   "source": [
    "* Use the Color Brewer tool: http://colorbrewer2.org/\n",
    "\n",
    "<img width=\"600\" src=\"img/color_brewer.png\" style=\"width: 600px;\"/>\n"
   ]
  },
  {
   "cell_type": "markdown",
   "metadata": {
    "slideshow": {
     "slide_type": "notes"
    }
   },
   "source": [
    "* Use grey! Don't use color!\n",
    "* Different colors for different data\n",
    "  * categorical or qualitative\n",
    "  * diverging\n",
    "  * sequential (low to high)\n",
    "* Intuitive color palettes: e.g. blue for water\n",
    "* Human perception of color\n",
    "  * Uneven range of colors we can perceive\n",
    "  * We see green brigther than red, and red brighter than blue\n",
    "  * Color Psychology\n",
    "    * warm vs cool colors\n",
    "    * cultural influence\n",
    "* Data vs non-data: (with grey, black or white)\n",
    "* Colorblindness: about 5% humans are at least partially color-blind\n",
    "* Printing: how will your chart look in b/w\n"
   ]
  },
  {
   "cell_type": "markdown",
   "metadata": {
    "slideshow": {
     "slide_type": "slide"
    }
   },
   "source": [
    "# Do's and Don'ts"
   ]
  },
  {
   "cell_type": "markdown",
   "metadata": {
    "slideshow": {
     "slide_type": "subslide"
    }
   },
   "source": [
    "## Do\n",
    "* \"Take your time\"\n",
    "* \"Label everything\"\n",
    "* \"Think about questions and story\"\n",
    "* Choose a chart type carefully\n",
    "* Sketch your ideas\n",
    "* Use as much grey as possible\n",
    "* Use color to highlight\n",
    "* Start your axes at 0\n",
    "* Handle Null/None values\n",
    "* Think about your audience\n",
    "* Storytelling\n",
    "* Learn matplotlib\n",
    "\n",
    "<font size=\"1\">https://amueller.github.io/COMS4995-s19/slides/aml-03-matplotlib/#47</font>"
   ]
  },
  {
   "cell_type": "markdown",
   "metadata": {
    "slideshow": {
     "slide_type": "subslide"
    }
   },
   "source": [
    "## Don't\n",
    "* \"Use 3D unless really necessary\"\n",
    "* \"Use piecharts (usually)\"\n",
    "* \"Edit figure manually\"\n",
    "* Use the default colors\n",
    "\n",
    "<font size=\"1\">https://amueller.github.io/COMS4995-s19/slides/aml-03-matplotlib/#47</font>"
   ]
  },
  {
   "cell_type": "markdown",
   "metadata": {
    "slideshow": {
     "slide_type": "slide"
    }
   },
   "source": [
    "# Sources and links to more material\n",
    "\n",
    "Portraits and pictures w/o caption downloaded at https://commons.wikimedia.org/"
   ]
  },
  {
   "cell_type": "markdown",
   "metadata": {
    "slideshow": {
     "slide_type": "subslide"
    }
   },
   "source": [
    "## Color Theory\n",
    "\n",
    "* https://99designs.com/blog/tips/the-7-step-guide-to-understanding-color-theory/\n",
    "* https://www.colorsystem.com/?page_id=31&lang=en\n",
    "* https://www.colormatters.com/color-and-design/basic-color-theory\n",
    "* https://www.dataquest.io/blog/what-to-consider-when-choosing-colors-for-data-visualization/\n",
    "* http://datastori.es/119-color-with-karen-schloss/\n",
    "* https://eagereyes.org/basics/rainbow-color-map\n",
    "* https://earthobservatory.nasa.gov/blogs/elegantfigures/2013/08/05/subtleties-of-color-part-1-of-6/\n",
    "* http://www.handprint.com/HP/WCL/wcolor.html\n",
    "* https://lisacharlotterost.github.io/2016/04/22/Colors-for-DataVis/\n",
    "* https://medium.com/s/story/the-mystery-of-color-e45ab2faa6a4\n",
    "* https://medium.com/hipster-color-science/a-beginners-guide-to-colorimetry-401f1830b65a\n",
    "* https://theblog.adobe.com/the-power-of-the-palette-why-color-is-key-in-data-visualization-and-how-to-use-it/\n",
    "* https://towardsdatascience.com/viz-palette-for-data-visualization-color-8e678d996077\n",
    "* https://us.deramores.com/blogs/deramores-blog/the-guide-to-colour-theory\n",
    "* http://www.visualisingdata.com/2015/01/make-grey-best-friend/\n",
    "* http://www.visual-arts-cork.com/artist-paints/colour-theory-painting.htm"
   ]
  },
  {
   "cell_type": "markdown",
   "metadata": {
    "slideshow": {
     "slide_type": "subslide"
    }
   },
   "source": [
    "## Data Visualization\n",
    "* https://amueller.github.io/COMS4995-s19/slides/aml-03-matplotlib/#47\n",
    "* https://matplotlib.org/3.1.0/tutorials/colors/colormaps.html\n",
    "* https://matplotlib.org/tutorials/index.html#colors\n",
    "* https://serialmentor.com/dataviz/index.html\n",
    "* https://towardsdatascience.com/the-next-level-of-data-visualization-in-python-dd6e99039d5e\n",
    "\n",
    "\n",
    "## Chart Types\n",
    "* https://365datascience.com/chart-types-and-how-to-select-the-right-one/\n",
    "* https://blog.hubspot.com/marketing/types-of-graphs-for-data-visualization\n",
    "* https://python-graph-gallery.com/\n",
    "* http://www.vizwiz.com/2018/07/visual-vocabulary.html"
   ]
  }
 ],
 "metadata": {
  "celltoolbar": "Slideshow",
  "kernelspec": {
   "display_name": "Python 3",
   "language": "python",
   "name": "python3"
  },
  "language_info": {
   "codemirror_mode": {
    "name": "ipython",
    "version": 3
   },
   "file_extension": ".py",
   "mimetype": "text/x-python",
   "name": "python",
   "nbconvert_exporter": "python",
   "pygments_lexer": "ipython3",
   "version": "3.6.7"
  }
 },
 "nbformat": 4,
 "nbformat_minor": 2
}
