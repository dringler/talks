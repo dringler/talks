{
 "cells": [
  {
   "cell_type": "markdown",
   "metadata": {},
   "source": [
    "# Neuronale Netze zur Dokumentenklassifikation mit Keras\n",
    "\n",
    "## Daniel Ringler\n",
    "\n",
    "## Ancud IT-Beratung: [ancud.de](https://ancud.de)\n",
    "\n",
    "![ancud](img/ancud_website.png)\n",
    "\n",
    "### This talk:  [github.com/dringler/talks/blob/master/data-analytics-2018/dl-keras.ipynb](https://github.com/dringler/talks/blob/master/data-analytics-2018/dl-keras.ipynb) \n",
    "(based on Adrin Jalali's talk https://github.com/adrinjalali/2017-05-talk-dl)\n",
    "\n",
    "### Requirements: conda, python3, ipython, jupyter notebook"
   ]
  },
  {
   "cell_type": "markdown",
   "metadata": {},
   "source": [
    "# Neural Networks\n",
    "\n",
    "\n",
    "## Human Brain\n",
    "\n",
    "![human NN](img/biological_NN.png)\n",
    "\n",
    "## Artificial Neural Networks\n",
    "* *\"[A logical calculus of the ideas imminent in nervous activity](http://aiplaybook.a16z.com/reference-material/mcculloch-pitts-1943-neural-networks.pdf)\"* by Warren S. McCulloch and Walter Pitts (1943)\n",
    "* computational model based on the brain\n",
    "* parallel processing of input through a network of nodes\n",
    "* complex **adaptive** system: ability to *learn* by adjusting the *weights*\n",
    "* errors alter the weights to improve the results\n",
    "* **neurons:** read and process input, generate output\n",
    "* strategies for learning:\n",
    "    * **supvervised:** labeled training data\n",
    "    * **unsupervised:** cost function to be minimized\n",
    "    * **reinforcement:** learn by observation (with agent simulated data)\n",
    "    \n",
    "![artificial NN](img/artificial_NN.png)\n",
    "\n",
    "### Perceptron\n",
    "* linear binary classifier\n",
    "* Simplest neural network with a single neuron (by [Rosenblatt, 1957](https://blogs.umass.edu/brain-wars/files/2016/03/rosenblatt-1957.pdf))\n",
    "    * One or more inputs with weights\n",
    "    * Processor with **activation function**\n",
    "    * Single output\n",
    "* Feed forward model: from left to right (non-cyclical)\n",
    "\n",
    "![perceptron](img/perceptron_weights.png)\n",
    "\n",
    "### Activation functions\n",
    "scale output to acceptable range before passing it to the next layer\n",
    "#### Logistic (Sigmoid)\n",
    "$$ f(x) = \\dfrac{1}{1 + e^{-x}} $$\n",
    "\n",
    "#### Softsign\n",
    "$$ f(x) = \\dfrac{x}{1+ |x|} $$\n",
    "\n",
    "#### ReLU (Rectified linear unit)\n",
    "$$ f(x) = \\begin{cases}\n",
    "    0 & \\text{for } x < 0 \\\\\n",
    "    x & \\text{for } x \\geq 0\n",
    "  \\end{cases} $$\n",
    "\n",
    "#### ...\n",
    "\n",
    "[more activation functions](https://en.wikipedia.org/wiki/Activation_function)\n"
   ]
  },
  {
   "cell_type": "code",
   "execution_count": 1,
   "metadata": {},
   "outputs": [
    {
     "data": {
      "image/png": "[encoded data removed]",
      "text/plain": [
       "<Figure size 720x504 with 1 Axes>"
      ]
     },
     "metadata": {},
     "output_type": "display_data"
    }
   ],
   "source": [
    "%matplotlib inline\n",
    "import numpy as np\n",
    "import matplotlib.pyplot as plt\n",
    "\n",
    "X = np.arange(-2, 2, 0.01)\n",
    "\n",
    "def relu(x):\n",
    "    return max(0, x)\n",
    "\n",
    "def sigmoid(x):\n",
    "    return 1 / (1 + np.exp(-x))\n",
    "\n",
    "def softsign(x):\n",
    "    return x / (1 + np.absolute(x))\n",
    "\n",
    "plt.figure(figsize = (10,7))\n",
    "plt.plot(X, [relu(x) for x in X])\n",
    "plt.plot(X, [sigmoid(x) for x in X])\n",
    "plt.plot(X, [softsign(x) for x in X])\n",
    "plt.legend(['ReLU', 'Sigmoid', 'Softsign'])\n",
    "\n",
    "plt.show()"
   ]
  },
  {
   "cell_type": "markdown",
   "metadata": {},
   "source": [
    "### Perceptron (continued)\n",
    "![perceptron](img/perceptron_weights.png)\n",
    "\n",
    "#### Adding Bias to the Perceptron\n",
    "![perceptron](img/perceptron_weights_bias.png)\n",
    "\n",
    "\n",
    "#### Example\n",
    "![perceptron example](img/perceptron_example.png)\n",
    "\n",
    "\n",
    "### Linearly separable problems\n",
    "\n",
    "#### Linearly separable vs non-linearly separable data\n",
    "![linearly separable](img/linearly-separable.png)\n",
    "\n",
    "#### AND & OR\n",
    "![and & or](img/and-or.png)\n",
    "\n",
    "#### XOR\n",
    "![xor](img/xor.png)\n",
    "\n",
    "#### Multi-layered perceptron\n",
    "A network of many neurons\n",
    "![multi-layered perceptron](img/multi-layered-perceptron.png)\n",
    "\n",
    "\n",
    "Source: The Nature of Code by Daniel Shiffman: https://natureofcode.com/book/chapter-10-neural-networks/"
   ]
  },
  {
   "cell_type": "markdown",
   "metadata": {},
   "source": [
    "## Backpropagation\n",
    "* optimizing weights of a multi-layered network\n",
    "* fed error backwards through the network and adjust weights\n",
    "* calculates the gradient of the loss function\n",
    "* uses activation function\n",
    "\n",
    "### Iterative (supervised) Approach\n",
    "![iterative training](img/iterative-training.png)\n",
    "\n",
    "### Gradient Descent\n",
    "optimization algorithm for finding local minima of functions \n",
    "\n",
    "![loss vs weight](img/loss_1.png)\n",
    "\n",
    "![starting point](img/loss_2.png)\n",
    "\n",
    "![negative gradient](img/loss_3.png)\n",
    "\n",
    "![gradient step](img/loss_4.png)\n",
    "\n",
    "#### Learning Rate\n",
    "\n",
    "![too small learning rate](img/loss_la_1.png)\n",
    "\n",
    "![too large learning rate](img/loss_la_2.png)\n",
    "\n",
    "![good learning rate](img/loss_la_3.png)\n",
    "\n",
    "\n",
    "\n",
    "\n",
    "Source: [Google Machine Learning Crash Course](https://developers.google.cn/machine-learning/crash-course/reducing-loss/an-iterative-approach)"
   ]
  },
  {
   "cell_type": "markdown",
   "metadata": {},
   "source": [
    "## Neural Network Architectures\n",
    "### Feedforward NN\n",
    "![feedforward](img/feedforward-nn.png)\n",
    "[Source](https://en.wikipedia.org/wiki/Artificial_neural_network#/media/File:Colored_neural_network.svg)\n",
    "\n",
    "### Recurrent NN\n",
    "* connections form a directed cycle\n",
    "![unrolled RNN](img/RNN-unrolled.png)\n",
    "[Source](http://colah.github.io/posts/2015-08-Understanding-LSTMs/)\n",
    "\n",
    "#### Elman SRN (simple RN)\n",
    "* three-layer network with additional context units (u) to maintain a state\n",
    "* used for sequence-prediction\n",
    "![Elman SRNN](img/Elman_srnn.png)\n",
    "[Source](https://en.wikipedia.org/wiki/Recurrent_neural_network#/media/File:Elman_srnn.png)\n",
    "\n",
    "\n",
    "#### LSTM (Long short-term memory)\n",
    "* learn from & act upon time-related data\n",
    "* undefined length of time between events of relevance\n",
    "![LSTM](img/lstm.png)\n",
    "[Source](https://en.wikipedia.org/wiki/Long_short-term_memory#/media/File:Peephole_Long_Short-Term_Memory.svg)\n",
    "\n",
    "### Convolutional NN\n",
    "for spatial data (images, sound, text(?))\n",
    "\n",
    "![cnn](img/cnn.png)\n",
    "* **Convolutional layer:** filters that activate for specific features at some spatial position\n",
    "    * **filter/kernel:** matrix of weights that slides over the input performing elementwise multiplication with the part of the input it is currently on, and then summing up the results into a single output pixel.\n",
    "* **Activation function** (e.g. ReLu)\n",
    "\n",
    "![convolution](img/convolution.gif)\n"
   ]
  },
  {
   "cell_type": "code",
   "execution_count": 2,
   "metadata": {},
   "outputs": [
    {
     "name": "stdout",
     "output_type": "stream",
     "text": [
      "identify filter\n",
      "[[0 0 0]\n",
      " [0 1 0]\n",
      " [0 0 0]]\n",
      "\n",
      "edge detection filter\n",
      "[[ 1  0 -1]\n",
      " [ 0  0  0]\n",
      " [-1  0  1]]\n",
      "\n",
      "example filter (see below)\n",
      "[[0 1 2]\n",
      " [2 2 0]\n",
      " [0 1 2]]\n",
      "\n"
     ]
    }
   ],
   "source": [
    "import numpy as np\n",
    "\n",
    "identity_filter = np.array([[0, 0, 0], [0, 1, 0], [0, 0, 0]])\n",
    "edge_detection_filter = np.array([[1, 0, -1], [0, 0, 0], [-1, 0, 1]])\n",
    "example_filter = np.array([[0, 1, 2], [2, 2, 0], [0, 1, 2]])\n",
    "\n",
    "print(\"identify filter\\n{}\\n\".format(identity_filter))\n",
    "print(\"edge detection filter\\n{}\\n\".format(edge_detection_filter))\n",
    "print(\"example filter (see below)\\n{}\\n\".format(example_filter))"
   ]
  },
  {
   "cell_type": "markdown",
   "metadata": {},
   "source": [
    "![standard-convolution](img/standard-convolution.gif)\n",
    "\n",
    "* **Padding:** extra \"fake\" pixels at the edge of the input image\n",
    "![padding](img/cnn-padding.gif)\n",
    "\n",
    "<!--#### A collection of Kernels\n",
    "* **channel:** a \"view\" of the image (e.g. three channels for RBG)\n",
    "* **filter:** a collection of kernels for a channel\n",
    "![filter](img/cnn-filter.png)\n",
    "![filters](img/cnn-filters.gif)\n",
    "-->\n",
    "\n",
    "* **Pooling layer**\n",
    "    * **pooling/subsampling layer:** to reduce the size and avoid overfitting (e.g. max pooling)\n",
    "        * **striding**: skip while sliding\n",
    "stride 2 convolution\n",
    "![striding](img/cnn-striding.gif)\n",
    "Max pooling with a 2x2 filter and stride = 2\n",
    "![max_pooling](img/max_pooling.png)\n",
    "\n",
    "<!--![pooling](img/cnn-pooling.gif)-->\n",
    "\n",
    "\n",
    "<!--### Adding Bias\n",
    "![bias](img/cnn-bias.gif)-->\n",
    "\n",
    "\n",
    "* **Fully-connected layer:** last layer for voting\n",
    "\n",
    "\n",
    "**CNN Sources:**\n",
    "* [theano tutorial](http://deeplearning.net/software/theano/tutorial/conv_arithmetic.html)\n",
    "* [Intuitively Understanding Convolutions for Deep Learning](https://towardsdatascience.com/intuitively-understanding-convolutions-for-deep-learning-1f6f42faee1)\n",
    "* [Stanford CNN class](http://cs231n.github.io/convolutional-networks/)\n",
    "\n"
   ]
  },
  {
   "cell_type": "markdown",
   "metadata": {},
   "source": [
    "## New developments\n",
    "### CPU vs GPU processing\n",
    "![CPU vs GPU](img/cpu_gpu.png)\n",
    "[Source](https://www.frontiersin.org/articles/10.3389/fgene.2013.00266/full)\n",
    "\n",
    "### Better algorithms\n",
    "#### Advances in computer vision\n",
    "* [Rapid object detection using a boosted cascade of simple features](http://wearables.cc.gatech.edu/paper_of_week/viola01rapid.pdf), 2001\n",
    "* [Distinctive Image Features from Scale-Invariant Keypoints](https://www.robots.ox.ac.uk/~vgg/research/affine/det_eval_files/lowe_ijcv2004.pdf), 2004\n",
    "\n",
    "#### Deep belief networks\n",
    "* [A fast learning algorithm for deep belief nets](https://www.cs.toronto.edu/~hinton/absps/fastnc.pdf), 2006\n",
    "* [Convolutional Deep Belief Networks for Scalable Unsupervised Learning of Hierarchical Representations](https://ai.stanford.edu/~ang/papers/icml09-ConvolutionalDeepBeliefNetworks.pdf), 2009\n",
    "\n",
    "#### CNN\n",
    "* [Flexible, High Performance Convolutional Neural Networks for Image Classification](http://people.idsia.ch/~juergen/ijcai2011.pdf), 2011\n",
    "* [ImageNet Classification with Deep Convolutional Neural Networks](http://papers.nips.cc/paper/4824-imagenet-classification-with-deep-convolutional-neural-networks.pdf), 2012"
   ]
  },
  {
   "cell_type": "markdown",
   "metadata": {},
   "source": [
    "# [Keras](https://keras.io/)\n",
    "\n",
    "![keras](img/keras.png)"
   ]
  },
  {
   "cell_type": "markdown",
   "metadata": {},
   "source": [
    "### [Keras 4 Step Workflow](https://www.kdnuggets.com/2018/06/keras-4-step-workflow.html)\n",
    "\n",
    "![keras-workflow](img/keras-4-step-workflow.png)\n",
    "\n",
    " 1. **Define training data:** load, clean, preprocess\n",
    " 2. **Define NN model:** using the sequential model class or functional API in Keras\n",
    "    * Sequential: linear stack of networks layers\n",
    "    * Functional API: flexibel approach for more complex models (e.g. multi-input, multi-output, or graph models)\n",
    " 3. **Configure learning process:** *compile()* method\n",
    "    * optimizer, loss function, list of metrics in sequential model class\n",
    "    * optimizer, loss function, loss weights for functional API\n",
    " 4. **Train model:** *fit()* method \n",
    "    * input and target tensors\n"
   ]
  },
  {
   "cell_type": "markdown",
   "metadata": {},
   "source": [
    "### create a virtual environment with conda for keras\n",
    "\n",
    " conda create -n keras_env [nb_conda](https://github.com/Anaconda-Platform/nb_conda) [keras](https://github.com/keras-team/keras)\n",
    " \n",
    "* with nb_conda the created virtual environment can be selected as a kernel in the jupyter notebook\n",
    "* keras will also install all required packages such as tensorflow automatically"
   ]
  },
  {
   "cell_type": "code",
   "execution_count": 3,
   "metadata": {},
   "outputs": [
    {
     "name": "stderr",
     "output_type": "stream",
     "text": [
      "Using TensorFlow backend.\n"
     ]
    },
    {
     "name": "stdout",
     "output_type": "stream",
     "text": [
      "Loading data...\n",
      "8982 train sequences\n",
      "2246 test sequences\n",
      "46 classes\n"
     ]
    }
   ],
   "source": [
    "#https://github.com/keras-team/keras/blob/master/examples/reuters_mlp.py\n",
    "'''Trains and evaluate a simple MLP\n",
    "on the Reuters newswire topic classification task.\n",
    "'''\n",
    "from __future__ import print_function\n",
    "\n",
    "import numpy as np\n",
    "import keras\n",
    "from keras.datasets import reuters\n",
    "from keras.models import Sequential\n",
    "from keras.layers import Dense, Dropout, Activation\n",
    "from keras.preprocessing.text import Tokenizer\n",
    "\n",
    "max_words = 1000\n",
    "batch_size = 32\n",
    "epochs = 5\n",
    "\n",
    "print('Loading data...')\n",
    "(x_train_data, y_train_data), (x_test_data, y_test_data) = reuters.load_data(num_words=max_words,\n",
    "                                                                             #num_words=None,\n",
    "                                                                             skip_top=0,\n",
    "                                                                             maxlen=None,\n",
    "                                                                             test_split=0.2,\n",
    "                                                                             seed=113,\n",
    "                                                                             start_char=1,\n",
    "                                                                             oov_char=2,\n",
    "                                                                             index_from=3)\n",
    "print(len(x_train_data), 'train sequences')\n",
    "print(len(x_test_data), 'test sequences')\n",
    "\n",
    "num_classes = np.max(y_train_data) + 1\n",
    "print(num_classes, 'classes')"
   ]
  },
  {
   "cell_type": "code",
   "execution_count": 4,
   "metadata": {},
   "outputs": [
    {
     "name": "stdout",
     "output_type": "stream",
     "text": [
      "[1, 245, 273, 397, 124, 53, 191, 26, 14, 83, 26, 39, 32, 32, 11, 14, 19, 12, 11, 88, 279, 59, 11, 14, 472, 59, 11, 17, 12]\n"
     ]
    }
   ],
   "source": [
    "print(x_train_data[23])"
   ]
  },
  {
   "cell_type": "code",
   "execution_count": 5,
   "metadata": {},
   "outputs": [
    {
     "data": {
      "text/plain": [
       "1"
      ]
     },
     "execution_count": 5,
     "metadata": {},
     "output_type": "execute_result"
    }
   ],
   "source": [
    "# Get word to index mapping\n",
    "word_index = reuters.get_word_index()\n",
    "word_index['the']"
   ]
  },
  {
   "cell_type": "code",
   "execution_count": 6,
   "metadata": {},
   "outputs": [
    {
     "data": {
      "text/plain": [
       "'the'"
      ]
     },
     "execution_count": 6,
     "metadata": {},
     "output_type": "execute_result"
    }
   ],
   "source": [
    "# Reverse mapping: index to word\n",
    "index_word = {i: w for w, i in word_index.items()} \n",
    "index_word[1]"
   ]
  },
  {
   "cell_type": "code",
   "execution_count": 7,
   "metadata": {},
   "outputs": [
    {
     "name": "stdout",
     "output_type": "stream",
     "text": [
      "['the', 'federal', 'gain', 'development', 'foreign', 'lt', 'any', 'year', 'reuter', 'revs', 'year', 'an', 'billion', 'billion', 'vs', 'reuter', 'from', 'dlrs', 'vs', 'may', 'reserves', 'were', 'vs', 'reuter', 'point', 'were', 'vs', 'pct', 'dlrs']\n"
     ]
    }
   ],
   "source": [
    "print([index_word[i] for i in x_train_data[23]])"
   ]
  },
  {
   "cell_type": "code",
   "execution_count": 8,
   "metadata": {},
   "outputs": [
    {
     "name": "stdout",
     "output_type": "stream",
     "text": [
      "Vectorizing sequence data with 1000 words to one hot encoding...\n",
      "x_train shape: (8982, 1000)\n",
      "x_test shape: (2246, 1000)\n"
     ]
    }
   ],
   "source": [
    "print('Vectorizing sequence data with {} words to one hot encoding...'.format(max_words))\n",
    "tokenizer = Tokenizer(num_words=max_words)\n",
    "x_train = tokenizer.sequences_to_matrix(x_train_data, mode='binary')\n",
    "x_test = tokenizer.sequences_to_matrix(x_test_data, mode='binary')\n",
    "print('x_train shape:', x_train.shape)\n",
    "print('x_test shape:', x_test.shape)"
   ]
  },
  {
   "cell_type": "code",
   "execution_count": 9,
   "metadata": {
    "scrolled": true
   },
   "outputs": [
    {
     "data": {
      "text/plain": [
       "array([0., 1., 1., 0., 1., 1., 1., 1., 1., 1., 1., 1., 1., 0., 0., 1., 1.,\n",
       "       1., 0., 1., 0., 0., 1., 0., 0., 1., 1., 0., 0., 1., 1., 0., 1., 0.,\n",
       "       0., 0., 0., 0., 0., 1., 0., 0., 0., 1., 1., 0., 0., 0., 1., 1., 0.,\n",
       "       0., 1., 0., 0., 0., 0., 0., 0., 0., 0., 0., 0., 0., 0., 0., 0., 1.,\n",
       "       0., 0., 0., 0., 0., 0., 0., 0., 0., 0., 0., 0., 0., 0., 0., 1., 1.,\n",
       "       0., 0., 0., 0., 1., 1., 0., 0., 0., 0., 0., 0., 0., 0., 0., 0., 0.,\n",
       "       1., 0., 0., 0., 0., 0., 0., 1., 0., 1., 0., 0., 0., 0., 0., 0., 0.,\n",
       "       0., 0., 0., 0., 0., 1., 0., 0., 0., 0., 0., 0., 0., 1., 0., 1., 0.,\n",
       "       0., 0., 0., 0., 0., 0., 0., 0., 0., 0., 0., 0., 0., 0., 0., 1., 0.,\n",
       "       0., 1., 1., 0., 0., 0., 0., 0., 0., 0., 0., 0., 0., 0., 0., 0., 0.,\n",
       "       0., 0., 0., 0., 0., 0., 0., 0., 0., 0., 0., 0., 0., 0., 0., 0., 1.,\n",
       "       0., 0., 0., 0., 0., 0., 0., 0., 0., 0., 1., 0., 0., 0., 0., 0., 0.,\n",
       "       0., 0., 0., 1., 0., 1., 0., 0., 0., 0., 0., 0., 0., 0., 0., 0., 0.,\n",
       "       0., 0., 0., 0., 0., 0., 0., 0., 0., 0., 0., 0., 0., 0., 0., 0., 0.,\n",
       "       0., 0., 0., 0., 0., 0., 0., 0., 0., 0., 0., 0., 0., 0., 0., 0., 0.,\n",
       "       0., 0., 0., 1., 0., 0., 0., 0., 0., 0., 0., 0., 0., 0., 0., 1., 0.,\n",
       "       1., 0., 0., 0., 0., 0., 0., 0., 0., 0., 0., 0., 0., 0., 0., 0., 0.,\n",
       "       0., 0., 0., 0., 0., 0., 0., 0., 0., 0., 0., 0., 0., 0., 0., 0., 0.,\n",
       "       0., 0., 0., 0., 0., 0., 0., 0., 0., 0., 0., 0., 0., 0., 0., 0., 0.,\n",
       "       0., 0., 0., 0., 0., 0., 0., 0., 0., 0., 0., 0., 0., 0., 0., 0., 0.,\n",
       "       0., 0., 0., 0., 0., 0., 0., 0., 0., 0., 0., 0., 0., 0., 0., 0., 0.,\n",
       "       0., 0., 0., 0., 0., 0., 0., 0., 0., 0., 0., 0., 1., 0., 0., 0., 0.,\n",
       "       0., 0., 0., 0., 0., 0., 0., 0., 0., 0., 0., 0., 0., 0., 0., 0., 0.,\n",
       "       0., 0., 0., 0., 0., 0., 0., 0., 0., 0., 0., 0., 0., 0., 0., 0., 0.,\n",
       "       0., 0., 0., 0., 0., 0., 0., 0., 0., 0., 0., 0., 0., 0., 0., 0., 0.,\n",
       "       0., 0., 0., 0., 0., 0., 0., 0., 0., 0., 0., 0., 0., 0., 0., 0., 0.,\n",
       "       0., 0., 0., 0., 0., 1., 0., 0., 0., 0., 0., 0., 0., 0., 0., 0., 0.,\n",
       "       0., 0., 0., 0., 0., 0., 0., 0., 0., 0., 0., 0., 0., 0., 0., 0., 0.,\n",
       "       0., 0., 0., 0., 0., 0., 1., 0., 0., 0., 0., 0., 0., 0., 0., 0., 0.,\n",
       "       0., 0., 0., 0., 0., 0., 0., 0., 0., 0., 0., 1., 0., 0., 0., 0., 0.,\n",
       "       0., 0., 0., 0., 0., 0., 0., 0., 0., 0., 0., 0., 0., 0., 0., 0., 0.,\n",
       "       0., 0., 0., 0., 0., 0., 0., 0., 0., 0., 0., 0., 0., 0., 0., 0., 0.,\n",
       "       0., 0., 0., 0., 0., 0., 0., 0., 0., 0., 0., 0., 0., 0., 0., 0., 0.,\n",
       "       0., 0., 0., 0., 0., 0., 0., 0., 0., 0., 0., 0., 0., 0., 0., 0., 0.,\n",
       "       0., 0., 0., 0., 0., 0., 0., 0., 0., 0., 0., 0., 0., 0., 0., 0., 0.,\n",
       "       0., 0., 0., 0., 0., 0., 0., 0., 0., 0., 0., 0., 0., 0., 0., 0., 0.,\n",
       "       0., 0., 0., 0., 0., 0., 0., 0., 0., 0., 0., 0., 0., 0., 0., 0., 0.,\n",
       "       0., 0., 0., 0., 0., 0., 0., 0., 0., 0., 0., 0., 0., 0., 0., 0., 0.,\n",
       "       0., 0., 0., 0., 0., 0., 0., 0., 0., 0., 0., 0., 0., 0., 0., 0., 0.,\n",
       "       0., 0., 0., 0., 0., 0., 0., 0., 0., 0., 0., 0., 0., 0., 0., 0., 0.,\n",
       "       0., 0., 0., 0., 0., 0., 0., 0., 0., 0., 0., 0., 0., 0., 0., 0., 0.,\n",
       "       0., 0., 0., 0., 0., 0., 0., 0., 0., 0., 0., 0., 0., 0., 0., 0., 0.,\n",
       "       0., 0., 0., 0., 0., 0., 0., 0., 0., 0., 0., 0., 0., 0., 0., 0., 0.,\n",
       "       0., 0., 0., 0., 0., 0., 0., 0., 0., 0., 0., 0., 0., 0., 0., 0., 0.,\n",
       "       0., 0., 0., 0., 0., 0., 0., 0., 0., 0., 0., 0., 0., 0., 0., 0., 0.,\n",
       "       0., 0., 0., 0., 0., 0., 0., 0., 0., 0., 0., 0., 0., 0., 0., 0., 0.,\n",
       "       0., 0., 0., 0., 0., 0., 0., 0., 0., 0., 0., 0., 0., 0., 0., 0., 0.,\n",
       "       0., 0., 0., 0., 0., 0., 0., 0., 0., 0., 0., 0., 0., 0., 0., 0., 0.,\n",
       "       0., 0., 0., 0., 0., 0., 0., 0., 0., 0., 0., 0., 0., 0., 0., 0., 0.,\n",
       "       0., 0., 0., 0., 0., 0., 0., 0., 0., 0., 0., 0., 0., 0., 0., 0., 0.,\n",
       "       0., 0., 0., 0., 0., 0., 0., 0., 0., 0., 0., 0., 0., 0., 1., 0., 0.,\n",
       "       0., 0., 0., 0., 0., 0., 0., 0., 0., 0., 0., 0., 0., 0., 0., 0., 0.,\n",
       "       0., 0., 0., 0., 0., 0., 0., 0., 0., 0., 0., 0., 0., 0., 0., 0., 0.,\n",
       "       0., 0., 0., 0., 0., 0., 0., 0., 0., 0., 0., 0., 0., 0., 0., 0., 0.,\n",
       "       0., 0., 0., 0., 0., 0., 0., 0., 0., 0., 0., 0., 0., 0., 0., 0., 0.,\n",
       "       0., 0., 0., 0., 0., 0., 0., 0., 0., 0., 0., 0., 0., 0., 0., 0., 0.,\n",
       "       0., 0., 0., 0., 0., 0., 0., 0., 0., 0., 0., 0., 0., 0., 0., 0., 0.,\n",
       "       0., 0., 0., 0., 0., 0., 0., 0., 0., 0., 0., 0., 0., 0., 0., 0., 0.,\n",
       "       0., 0., 0., 0., 0., 0., 0., 0., 0., 0., 0., 0., 0., 0.])"
      ]
     },
     "execution_count": 9,
     "metadata": {},
     "output_type": "execute_result"
    }
   ],
   "source": [
    "x_train[0]"
   ]
  },
  {
   "cell_type": "code",
   "execution_count": 10,
   "metadata": {},
   "outputs": [
    {
     "name": "stdout",
     "output_type": "stream",
     "text": [
      "Convert class vector to binary class matrix (for use with categorical_crossentropy)\n",
      "y_train shape: (8982, 46)\n",
      "y_test shape: (2246, 46)\n"
     ]
    }
   ],
   "source": [
    "print('Convert class vector to binary class matrix '\n",
    "      '(for use with categorical_crossentropy)')\n",
    "y_train = keras.utils.to_categorical(y_train_data, num_classes)\n",
    "y_test = keras.utils.to_categorical(y_test_data, num_classes)\n",
    "print('y_train shape:', y_train.shape)\n",
    "print('y_test shape:', y_test.shape)"
   ]
  },
  {
   "cell_type": "code",
   "execution_count": 11,
   "metadata": {},
   "outputs": [
    {
     "data": {
      "text/plain": [
       "array([0., 0., 0., 1., 0., 0., 0., 0., 0., 0., 0., 0., 0., 0., 0., 0., 0.,\n",
       "       0., 0., 0., 0., 0., 0., 0., 0., 0., 0., 0., 0., 0., 0., 0., 0., 0.,\n",
       "       0., 0., 0., 0., 0., 0., 0., 0., 0., 0., 0., 0.], dtype=float32)"
      ]
     },
     "execution_count": 11,
     "metadata": {},
     "output_type": "execute_result"
    }
   ],
   "source": [
    "y_train[0]"
   ]
  },
  {
   "cell_type": "code",
   "execution_count": 12,
   "metadata": {},
   "outputs": [
    {
     "name": "stdout",
     "output_type": "stream",
     "text": [
      "Defining model...\n",
      "Defining learning process...\n"
     ]
    },
    {
     "data": {
      "text/plain": [
       "<keras.engine.sequential.Sequential at 0x7fc2a0fb84a8>"
      ]
     },
     "execution_count": 12,
     "metadata": {},
     "output_type": "execute_result"
    }
   ],
   "source": [
    "print('Defining model...')\n",
    "model = Sequential()\n",
    "# input layer\n",
    "model.add(Dense(512, input_shape=(max_words,)))\n",
    "model.add(Activation('relu'))\n",
    "model.add(Dropout(0.5))\n",
    "\n",
    "# output layer\n",
    "model.add(Dense(num_classes))\n",
    "model.add(Activation('softmax'))\n",
    "\n",
    "print(\"Defining learning process...\")\n",
    "model.compile(loss='categorical_crossentropy', #mean_squared_error\n",
    "              optimizer='adam',\n",
    "              metrics=['accuracy'])\n",
    "model"
   ]
  },
  {
   "cell_type": "code",
   "execution_count": 13,
   "metadata": {},
   "outputs": [
    {
     "data": {
      "image/svg+xml": [
       "<svg height=\"410pt\" viewBox=\"0.00 0.00 156.00 410.00\" width=\"156pt\" xmlns=\"http://www.w3.org/2000/svg\" xmlns:xlink=\"http://www.w3.org/1999/xlink\">\n",
       "<g class=\"graph\" id=\"graph0\" transform=\"scale(1 1) rotate(0) translate(4 406)\">\n",
       "<title>G</title>\n",
       "<polygon fill=\"white\" points=\"-4,4 -4,-406 152,-406 152,4 -4,4\" stroke=\"none\"/>\n",
       "<!-- 140473901221088 -->\n",
       "<g class=\"node\" id=\"node1\"><title>140473901221088</title>\n",
       "<polygon fill=\"none\" points=\"23,-292.5 23,-328.5 125,-328.5 125,-292.5 23,-292.5\" stroke=\"black\"/>\n",
       "<text font-family=\"Times,serif\" font-size=\"14.00\" text-anchor=\"middle\" x=\"74\" y=\"-306.8\">dense_1: Dense</text>\n",
       "</g>\n",
       "<!-- 140473901221312 -->\n",
       "<g class=\"node\" id=\"node2\"><title>140473901221312</title>\n",
       "<polygon fill=\"none\" points=\"0,-219.5 0,-255.5 148,-255.5 148,-219.5 0,-219.5\" stroke=\"black\"/>\n",
       "<text font-family=\"Times,serif\" font-size=\"14.00\" text-anchor=\"middle\" x=\"74\" y=\"-233.8\">activation_1: Activation</text>\n",
       "</g>\n",
       "<!-- 140473901221088&#45;&gt;140473901221312 -->\n",
       "<g class=\"edge\" id=\"edge2\"><title>140473901221088-&gt;140473901221312</title>\n",
       "<path d=\"M74,-292.313C74,-284.289 74,-274.547 74,-265.569\" fill=\"none\" stroke=\"black\"/>\n",
       "<polygon fill=\"black\" points=\"77.5001,-265.529 74,-255.529 70.5001,-265.529 77.5001,-265.529\" stroke=\"black\"/>\n",
       "</g>\n",
       "<!-- 140473901222488 -->\n",
       "<g class=\"node\" id=\"node3\"><title>140473901222488</title>\n",
       "<polygon fill=\"none\" points=\"11.5,-146.5 11.5,-182.5 136.5,-182.5 136.5,-146.5 11.5,-146.5\" stroke=\"black\"/>\n",
       "<text font-family=\"Times,serif\" font-size=\"14.00\" text-anchor=\"middle\" x=\"74\" y=\"-160.8\">dropout_1: Dropout</text>\n",
       "</g>\n",
       "<!-- 140473901221312&#45;&gt;140473901222488 -->\n",
       "<g class=\"edge\" id=\"edge3\"><title>140473901221312-&gt;140473901222488</title>\n",
       "<path d=\"M74,-219.313C74,-211.289 74,-201.547 74,-192.569\" fill=\"none\" stroke=\"black\"/>\n",
       "<polygon fill=\"black\" points=\"77.5001,-192.529 74,-182.529 70.5001,-192.529 77.5001,-192.529\" stroke=\"black\"/>\n",
       "</g>\n",
       "<!-- 140473901223720 -->\n",
       "<g class=\"node\" id=\"node4\"><title>140473901223720</title>\n",
       "<polygon fill=\"none\" points=\"23,-73.5 23,-109.5 125,-109.5 125,-73.5 23,-73.5\" stroke=\"black\"/>\n",
       "<text font-family=\"Times,serif\" font-size=\"14.00\" text-anchor=\"middle\" x=\"74\" y=\"-87.8\">dense_2: Dense</text>\n",
       "</g>\n",
       "<!-- 140473901222488&#45;&gt;140473901223720 -->\n",
       "<g class=\"edge\" id=\"edge4\"><title>140473901222488-&gt;140473901223720</title>\n",
       "<path d=\"M74,-146.313C74,-138.289 74,-128.547 74,-119.569\" fill=\"none\" stroke=\"black\"/>\n",
       "<polygon fill=\"black\" points=\"77.5001,-119.529 74,-109.529 70.5001,-119.529 77.5001,-119.529\" stroke=\"black\"/>\n",
       "</g>\n",
       "<!-- 140473901222432 -->\n",
       "<g class=\"node\" id=\"node5\"><title>140473901222432</title>\n",
       "<polygon fill=\"none\" points=\"0,-0.5 0,-36.5 148,-36.5 148,-0.5 0,-0.5\" stroke=\"black\"/>\n",
       "<text font-family=\"Times,serif\" font-size=\"14.00\" text-anchor=\"middle\" x=\"74\" y=\"-14.8\">activation_2: Activation</text>\n",
       "</g>\n",
       "<!-- 140473901223720&#45;&gt;140473901222432 -->\n",
       "<g class=\"edge\" id=\"edge5\"><title>140473901223720-&gt;140473901222432</title>\n",
       "<path d=\"M74,-73.3129C74,-65.2895 74,-55.5475 74,-46.5691\" fill=\"none\" stroke=\"black\"/>\n",
       "<polygon fill=\"black\" points=\"77.5001,-46.5288 74,-36.5288 70.5001,-46.5289 77.5001,-46.5288\" stroke=\"black\"/>\n",
       "</g>\n",
       "<!-- 140473901221704 -->\n",
       "<g class=\"node\" id=\"node6\"><title>140473901221704</title>\n",
       "<polygon fill=\"none\" points=\"15,-365.5 15,-401.5 133,-401.5 133,-365.5 15,-365.5\" stroke=\"black\"/>\n",
       "<text font-family=\"Times,serif\" font-size=\"14.00\" text-anchor=\"middle\" x=\"74\" y=\"-379.8\">140473901221704</text>\n",
       "</g>\n",
       "<!-- 140473901221704&#45;&gt;140473901221088 -->\n",
       "<g class=\"edge\" id=\"edge1\"><title>140473901221704-&gt;140473901221088</title>\n",
       "<path d=\"M74,-365.313C74,-357.289 74,-347.547 74,-338.569\" fill=\"none\" stroke=\"black\"/>\n",
       "<polygon fill=\"black\" points=\"77.5001,-338.529 74,-328.529 70.5001,-338.529 77.5001,-338.529\" stroke=\"black\"/>\n",
       "</g>\n",
       "</g>\n",
       "</svg>"
      ],
      "text/plain": [
       "<IPython.core.display.SVG object>"
      ]
     },
     "execution_count": 13,
     "metadata": {},
     "output_type": "execute_result"
    }
   ],
   "source": [
    "from IPython.display import SVG\n",
    "from keras.utils.vis_utils import model_to_dot\n",
    "# graphviz and pydot required\n",
    "# sudo apt-get install python-pydot python-pydot-ng graphviz\n",
    "\n",
    "SVG(model_to_dot(model).create(prog='dot', format='svg'))"
   ]
  },
  {
   "cell_type": "code",
   "execution_count": 14,
   "metadata": {
    "scrolled": false
   },
   "outputs": [
    {
     "name": "stdout",
     "output_type": "stream",
     "text": [
      "Training model...\n",
      "Train on 8083 samples, validate on 899 samples\n",
      "Epoch 1/5\n",
      "8083/8083 [==============================] - 2s 222us/step - loss: 1.4287 - acc: 0.6791 - val_loss: 1.0896 - val_acc: 0.7642\n",
      "Epoch 2/5\n",
      "8083/8083 [==============================] - 2s 196us/step - loss: 0.7889 - acc: 0.8188 - val_loss: 0.9383 - val_acc: 0.7898\n",
      "Epoch 3/5\n",
      "8083/8083 [==============================] - 1s 172us/step - loss: 0.5503 - acc: 0.8647 - val_loss: 0.8936 - val_acc: 0.7976\n",
      "Epoch 4/5\n",
      "8083/8083 [==============================] - 1s 170us/step - loss: 0.4167 - acc: 0.8998 - val_loss: 0.8806 - val_acc: 0.8065\n",
      "Epoch 5/5\n",
      "8083/8083 [==============================] - 1s 165us/step - loss: 0.3251 - acc: 0.9196 - val_loss: 0.9124 - val_acc: 0.8031\n",
      "Evaluating model...\n",
      "2246/2246 [==============================] - 0s 30us/step\n",
      "Test loss: 0.8855914672569621\n",
      "Test accuracy: 0.7916295636687445\n"
     ]
    }
   ],
   "source": [
    "print(\"Training model...\")\n",
    "history = model.fit(x_train, y_train,\n",
    "                    batch_size=batch_size,\n",
    "                    epochs=epochs,\n",
    "                    verbose=1,\n",
    "                    validation_split=0.1)\n",
    "\n",
    "print(\"Evaluating model...\")\n",
    "score = model.evaluate(x_test, y_test,\n",
    "                       batch_size=batch_size, verbose=1)\n",
    "\n",
    "# model.metrics_names\n",
    "print('Test loss:', score[0])\n",
    "print('Test accuracy:', score[1])"
   ]
  },
  {
   "cell_type": "code",
   "execution_count": 15,
   "metadata": {},
   "outputs": [
    {
     "data": {
      "image/png": "[encoded data removed]",
      "text/plain": [
       "<Figure size 432x288 with 2 Axes>"
      ]
     },
     "metadata": {},
     "output_type": "display_data"
    }
   ],
   "source": [
    "import matplotlib.pyplot as plt\n",
    "\n",
    "X = [e+1 for e in history.epoch]\n",
    "\n",
    "fig, (ax1, ax2) = plt.subplots(nrows=2, sharex=True)\n",
    "\n",
    "ax1.plot(X, history.history['acc'], label='accuracy')\n",
    "ax1.plot(X, history.history['val_acc'], label='validation accuracy')\n",
    "ax1.legend()\n",
    "\n",
    "ax2.plot(X, history.history['loss'], label='loss')\n",
    "ax2.plot(X, history.history['val_loss'], label='validation loss')\n",
    "ax2.legend()\n",
    "\n",
    "plt.locator_params(axis='x', nbins=max(X))  # x ticks\n",
    "plt.xlabel('epoch')\n",
    "\n",
    "plt.show()"
   ]
  },
  {
   "cell_type": "code",
   "execution_count": 16,
   "metadata": {},
   "outputs": [
    {
     "data": {
      "text/plain": [
       "array([5.0444328e-06, 4.6559635e-06, 5.6859918e-08, 9.8043871e-01,\n",
       "       1.8217640e-02, 6.2916921e-09, 3.9616131e-07, 4.2744678e-06,\n",
       "       2.1356052e-04, 1.8726877e-06, 1.9835097e-06, 2.4616214e-05,\n",
       "       1.0072310e-06, 5.9147755e-04, 2.6978108e-07, 2.3248822e-07,\n",
       "       4.4286713e-05, 1.6914225e-06, 3.4088310e-07, 2.0564834e-05,\n",
       "       2.6333207e-04, 2.1458200e-05, 2.2505613e-07, 4.5354000e-06,\n",
       "       3.7326240e-07, 1.9853721e-06, 6.7573365e-07, 1.7667453e-07,\n",
       "       5.9150511e-06, 2.9467372e-05, 1.8512243e-05, 3.5018306e-07,\n",
       "       1.0126295e-06, 5.6346590e-07, 2.4406676e-05, 2.3870950e-06,\n",
       "       1.9153767e-05, 9.5337168e-07, 2.9510836e-06, 2.6966201e-05,\n",
       "       2.3461666e-07, 1.3253218e-06, 3.8029615e-08, 1.3445535e-07,\n",
       "       4.0664172e-08, 5.9460504e-08], dtype=float32)"
      ]
     },
     "execution_count": 16,
     "metadata": {},
     "output_type": "execute_result"
    }
   ],
   "source": [
    "p = model.predict(x_test)\n",
    "p[0]"
   ]
  },
  {
   "cell_type": "code",
   "execution_count": 17,
   "metadata": {},
   "outputs": [
    {
     "data": {
      "text/plain": [
       "array([ 3, 10,  1, ...,  3,  4,  1])"
      ]
     },
     "execution_count": 17,
     "metadata": {},
     "output_type": "execute_result"
    }
   ],
   "source": [
    "val_pred = np.argmax(p, axis=-1)\n",
    "val_pred"
   ]
  },
  {
   "cell_type": "code",
   "execution_count": 18,
   "metadata": {},
   "outputs": [
    {
     "data": {
      "text/plain": [
       "array([ 3, 10,  1, ...,  3,  3, 24])"
      ]
     },
     "execution_count": 18,
     "metadata": {},
     "output_type": "execute_result"
    }
   ],
   "source": [
    "val_test = np.argmax(y_test, axis=-1)\n",
    "val_test"
   ]
  },
  {
   "cell_type": "code",
   "execution_count": 19,
   "metadata": {},
   "outputs": [
    {
     "data": {
      "text/plain": [
       "array([[ 9,  1,  0, ...,  0,  0,  0],\n",
       "       [ 0, 89,  1, ...,  0,  0,  0],\n",
       "       [ 0,  1, 14, ...,  0,  0,  0],\n",
       "       ...,\n",
       "       [ 0,  0,  0, ...,  6,  0,  0],\n",
       "       [ 0,  1,  0, ...,  0,  4,  0],\n",
       "       [ 0,  0,  0, ...,  0,  0,  1]])"
      ]
     },
     "execution_count": 19,
     "metadata": {},
     "output_type": "execute_result"
    }
   ],
   "source": [
    "from sklearn import metrics\n",
    "\n",
    "cm = metrics.confusion_matrix(val_test, val_pred)\n",
    "cm"
   ]
  },
  {
   "cell_type": "code",
   "execution_count": 20,
   "metadata": {},
   "outputs": [
    {
     "data": {
      "image/png": "[encoded data removed]",
      "text/plain": [
       "<Figure size 720x504 with 2 Axes>"
      ]
     },
     "metadata": {},
     "output_type": "display_data"
    }
   ],
   "source": [
    "import seaborn as sn\n",
    "import pandas as pd\n",
    "# https://stackoverflow.com/questions/35572000/how-can-i-plot-a-confusion-matrix\n",
    "\n",
    "df_cm = pd.DataFrame(cm)#, index = [i for i in \"ABCDEFGHIJK\"],\n",
    "                        #  columns = [i for i in \"ABCDEFGHIJK\"])\n",
    "plt.figure(figsize = (10,7))\n",
    "sn.heatmap(df_cm, cmap=plt.cm.RdYlGn)#, annot=True)\n",
    "plt.show()"
   ]
  },
  {
   "cell_type": "code",
   "execution_count": 21,
   "metadata": {},
   "outputs": [
    {
     "name": "stdout",
     "output_type": "stream",
     "text": [
      "             precision    recall  f1-score   support\n",
      "\n",
      "          0       0.90      0.75      0.82        12\n",
      "          1       0.66      0.85      0.74       105\n",
      "          2       0.70      0.70      0.70        20\n",
      "          3       0.89      0.95      0.92       813\n",
      "          4       0.84      0.86      0.85       474\n",
      "          5       0.00      0.00      0.00         5\n",
      "          6       0.92      0.79      0.85        14\n",
      "          7       0.50      0.33      0.40         3\n",
      "          8       0.71      0.71      0.71        38\n",
      "          9       0.90      0.72      0.80        25\n",
      "         10       0.96      0.90      0.93        30\n",
      "         11       0.67      0.77      0.72        83\n",
      "         12       0.80      0.31      0.44        13\n",
      "         13       0.38      0.70      0.50        37\n",
      "         14       0.00      0.00      0.00         2\n",
      "         15       0.50      0.11      0.18         9\n",
      "         16       0.71      0.69      0.70        99\n",
      "         17       1.00      0.33      0.50        12\n",
      "         18       0.71      0.50      0.59        20\n",
      "         19       0.73      0.65      0.69       133\n",
      "         20       0.51      0.56      0.53        70\n",
      "         21       0.69      0.67      0.68        27\n",
      "         22       0.00      0.00      0.00         7\n",
      "         23       0.17      0.08      0.11        12\n",
      "         24       0.46      0.32      0.37        19\n",
      "         25       0.86      0.61      0.72        31\n",
      "         26       1.00      0.50      0.67         8\n",
      "         27       1.00      0.25      0.40         4\n",
      "         28       0.50      0.30      0.37        10\n",
      "         29       0.60      0.75      0.67         4\n",
      "         30       0.83      0.42      0.56        12\n",
      "         31       1.00      0.38      0.56        13\n",
      "         32       0.86      0.60      0.71        10\n",
      "         33       0.80      0.80      0.80         5\n",
      "         34       0.75      0.43      0.55         7\n",
      "         35       1.00      0.33      0.50         6\n",
      "         36       0.60      0.55      0.57        11\n",
      "         37       0.00      0.00      0.00         2\n",
      "         38       0.50      0.33      0.40         3\n",
      "         39       0.00      0.00      0.00         5\n",
      "         40       0.67      0.20      0.31        10\n",
      "         41       0.50      0.12      0.20         8\n",
      "         42       0.00      0.00      0.00         3\n",
      "         43       0.60      1.00      0.75         6\n",
      "         44       1.00      0.80      0.89         5\n",
      "         45       1.00      1.00      1.00         1\n",
      "\n",
      "avg / total       0.79      0.79      0.78      2246\n",
      "\n"
     ]
    },
    {
     "name": "stderr",
     "output_type": "stream",
     "text": [
      "/home/dan/anaconda3/envs/keras/lib/python3.6/site-packages/sklearn/metrics/classification.py:1135: UndefinedMetricWarning: Precision and F-score are ill-defined and being set to 0.0 in labels with no predicted samples.\n",
      "  'precision', 'predicted', average, warn_for)\n"
     ]
    }
   ],
   "source": [
    "print(metrics.classification_report(val_test, val_pred))"
   ]
  },
  {
   "cell_type": "code",
   "execution_count": 22,
   "metadata": {},
   "outputs": [
    {
     "name": "stderr",
     "output_type": "stream",
     "text": [
      "/home/dan/anaconda3/envs/keras/lib/python3.6/site-packages/sklearn/metrics/classification.py:1135: UndefinedMetricWarning: Precision and F-score are ill-defined and being set to 0.0 in labels with no predicted samples.\n",
      "  'precision', 'predicted', average, warn_for)\n"
     ]
    },
    {
     "data": {
      "image/png": "[encoded data removed]",
      "text/plain": [
       "<Figure size 720x720 with 1 Axes>"
      ]
     },
     "metadata": {},
     "output_type": "display_data"
    }
   ],
   "source": [
    "# https://stackoverflow.com/questions/28200786/how-to-plot-scikit-learn-classification-report\n",
    "plt.figure(figsize=(10, 10))\n",
    "\n",
    "xticks = ['precision', 'recall', 'f1-score']#, 'support']\n",
    "yticks = list(np.unique(val_test))\n",
    "yticks += ['avg']\n",
    "\n",
    "rep = np.array(metrics.precision_recall_fscore_support(val_test, val_pred)).T\n",
    "avg = np.mean(rep, axis=0)\n",
    "\n",
    "avg[-1] = np.sum(rep[:, -1])\n",
    "rep = np.insert(rep, rep.shape[0], avg, axis=0)\n",
    "rep = np.delete(rep, -1, axis=1)  #delete support column\n",
    "\n",
    "\n",
    "sn.heatmap(rep,\n",
    "           cmap=plt.cm.RdYlGn,\n",
    "           annot=True, \n",
    "           cbar=False, \n",
    "           xticklabels=xticks, \n",
    "           yticklabels=yticks,\n",
    "           ax=None)\n",
    "plt.show()"
   ]
  }
 ],
 "metadata": {
  "kernelspec": {
   "display_name": "Python [conda env:keras]",
   "language": "python",
   "name": "conda-env-keras-py"
  },
  "language_info": {
   "codemirror_mode": {
    "name": "ipython",
    "version": 3
   },
   "file_extension": ".py",
   "mimetype": "text/x-python",
   "name": "python",
   "nbconvert_exporter": "python",
   "pygments_lexer": "ipython3",
   "version": "3.6.5"
  }
 },
 "nbformat": 4,
 "nbformat_minor": 2
}
